{
 "cells": [
  {
   "cell_type": "code",
   "execution_count": 12,
   "metadata": {},
   "outputs": [
    {
     "name": "stdout",
     "output_type": "stream",
     "text": [
      "[-0.12011308440653548, -0.4317631339957903, 0.1460725615379638, -0.0012213593541033868, 3.1162765286999745, 0.038891915325998158]\n"
     ]
    }
   ],
   "source": [
    "from kinematics import *\n",
    "import math3d as m3d\n",
    "\n",
    "current_joint = [-1.60070, -1.72710, -2.20300, -0.80800, 1.59510, -0.03100]\n",
    "\n",
    "transform = fwd_kin(current_joint, o_unit='p')\n",
    "\n",
    "\n",
    "def ros2ur(transform):\n",
    "    \n",
    "    p = transform.position\n",
    "    o = transform.orientation\n",
    "    q = m3d.UnitQuaternion(o.w, o.x, o.y, o.z)\n",
    "    pose = [p.x, p.y, p.z] \n",
    "    pose += list(q.rotation_vector)\n",
    "    \n",
    "    return pose\n",
    "\n",
    "print(ros2ur(transform))"
   ]
  },
  {
   "cell_type": "code",
   "execution_count": 6,
   "metadata": {},
   "outputs": [
    {
     "name": "stdout",
     "output_type": "stream",
     "text": [
      "Unit: radian\n",
      "Joint values in radian\n",
      "[  60.25605139   30.97941967  -95.70179356  156.67681065   89.46310226\n",
      "  150.20203155]\n",
      "[  60.25605139  -55.84725166   95.70179356 -127.90010514  -89.46310226\n",
      "  150.20203155]\n",
      "[  60.25605139   30.97941967  -95.70179356  156.67681065   89.46310226\n",
      "  150.20203155]\n",
      "[  60.25605139  -55.84725166   95.70179356 -127.90010514  -89.46310226\n",
      "  150.20203155]\n",
      "[ -91.71292597  -98.955371   -126.22337196  -46.29430091   91.39231438\n",
      "   -1.77568739]\n",
      "[ -91.71292597 -205.92383103  126.22337196  -11.77258479  -91.39231438\n",
      "   -1.77568739]\n",
      "[ -91.71292597  -98.955371   -126.22337196  -46.29430091   91.39231438\n",
      "   -1.77568739]\n",
      "[ -91.71292597 -205.92383103  126.22337196  -11.77258479  -91.39231438\n",
      "   -1.77568739]\n"
     ]
    }
   ],
   "source": [
    "\n",
    "from kinematics import *\n",
    "\n",
    "print \"Unit: radian\"\n",
    "desired_solution = [-1.60070, -1.72710, -2.20300, -0.80800, 1.59510, -0.03100]\n",
    "\n",
    "target_pose = [-0.12011, -0.43176, 0.14607, -0.00122, 3.11628, 0.03889]\n",
    "\n",
    "print \"Joint values in radian\"\n",
    "sol = inv_kin(target_pose, desired_solution)\n",
    "\n",
    "for s in sol:\n",
    "\tprint np.degrees(s)"
   ]
  },
  {
   "cell_type": "code",
   "execution_count": 10,
   "metadata": {},
   "outputs": [
    {
     "data": {
      "text/plain": [
       "(3.116639351682569, 0.025081032563168595, -3.1411217554256154)"
      ]
     },
     "execution_count": 10,
     "metadata": {},
     "output_type": "execute_result"
    }
   ],
   "source": [
    "tf.euler_from_matrix(matrix)"
   ]
  },
  {
   "cell_type": "code",
   "execution_count": null,
   "metadata": {},
   "outputs": [],
   "source": []
  }
 ],
 "metadata": {
  "kernelspec": {
   "display_name": "Python 2",
   "language": "python",
   "name": "python2"
  },
  "language_info": {
   "codemirror_mode": {
    "name": "ipython",
    "version": 2
   },
   "file_extension": ".py",
   "mimetype": "text/x-python",
   "name": "python",
   "nbconvert_exporter": "python",
   "pygments_lexer": "ipython2",
   "version": "2.7.12"
  }
 },
 "nbformat": 4,
 "nbformat_minor": 2
}
